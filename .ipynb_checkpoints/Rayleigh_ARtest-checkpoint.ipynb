{
 "cells": [
  {
   "cell_type": "code",
   "execution_count": 2,
   "metadata": {
    "collapsed": false
   },
   "outputs": [],
   "source": [
    "'''\n",
    "Hi! This script tests ZDR for hydrometeor spheroids at different diameters, but a constant axial ratio. \n",
    "It is intended to be used to analyze predictions of the spheroid model for snow aggregates using the T-matrix\n",
    "method. \n",
    "-George Duffy, 2015\n",
    "'''"
   ]
  },
  {
   "cell_type": "code",
   "execution_count": null,
   "metadata": {
    "collapsed": true
   },
   "outputs": [],
   "source": [
    "'''\n",
    "Modules necessary for this script are pytmatrix, numpy, and pyplot\n",
    "'''\n",
    "\n",
    "%matplotlib inline\n",
    "import matplotlib.pyplot as plt\n",
    "from pytmatrix.tmatrix import Scatterer\n",
    "from pytmatrix.psd import PSDIntegrator, GammaPSD, BinnedPSD\n",
    "from pytmatrix import orientation, radar, tmatrix_aux, refractive\n",
    "import numpy as np"
   ]
  },
  {
   "cell_type": "code",
   "execution_count": null,
   "metadata": {
    "collapsed": false
   },
   "outputs": [],
   "source": [
    "Rayleigh = []\n",
    "flec1h, flec2h, flec3h, flec4h, flec5h = [], [], [], [], []\n",
    "flec1v, flec2v, flec3v, flec4v, flec5v = [], [], [], [], []\n",
    "ar = 0.6\n",
    "dees = np.logspace(-1, 1, 500)\n",
    "nconc = 1\n",
    "\n",
    "def mix(a, b, d, ar):\n",
    "    # a, d in cgs, use bruggeman equation\n",
    "    m = a*d**b\n",
    "    v = (1./6.)*ar*(d)**3*np.pi\n",
    "    density = m/v\n",
    "    n = 1.782\n",
    "    kappa = complex(0, 7.302*10**-3)\n",
    "    IceDens = .917\n",
    "    e1 = n**2 - kappa**2\n",
    "    e2 = 2*n*kappa\n",
    "    B = e1 + e2\n",
    "    f = density/IceDens\n",
    "    mixed = (B*(1+2*f)-(2*f-2))/((2+f)+B*(1-f))\n",
    "    e1out = np.real(mixed)\n",
    "    e2out = np.imag(mixed)\n",
    "    nout = np.sqrt((np.sqrt(e1out**2 +e2out**2)+e1out)/2)\n",
    "    kout = np.sqrt((np.sqrt(e1out**2 +e2out**2)-e1out)/2)\n",
    "    m =complex(nout, kout)\n",
    "    return m\n",
    "\n",
    "for d in dees:\n",
    "    dmod = d * (ar**(1./3.))\n",
    "    mm = mix(0.004, 2.1, d*0.1, ar)\n",
    "    oblate1 = Scatterer(radius = dmod/2., wavelength=tmatrix_aux.wl_S, m = mm, axis_ratio = 1/ar)\n",
    "    oblate2 = Scatterer(radius = dmod/2., wavelength=tmatrix_aux.wl_C, m = mm, axis_ratio = 1/ar)\n",
    "    oblate3 = Scatterer(radius = dmod/2., wavelength=tmatrix_aux.wl_Ku, m = mm, axis_ratio = 1/ar)\n",
    "    oblate4 = Scatterer(radius = dmod/2., wavelength=tmatrix_aux.wl_Ka, m = mm, axis_ratio = 1/ar)\n",
    "    oblate5 = Scatterer(radius = dmod/2., wavelength=tmatrix_aux.wl_W, m = mm, axis_ratio = 1/ar)\n",
    "    \n",
    "    flec1h.append(10*np.log10(nconc*radar.refl(oblate1)))\n",
    "    flec2h.append(10*np.log10(nconc*radar.refl(oblate2)))\n",
    "    flec3h.append(10*np.log10(nconc*radar.refl(oblate3)))\n",
    "    flec4h.append(10*np.log10(nconc*radar.refl(oblate4)))\n",
    "    flec5h.append(10*np.log10(nconc*radar.refl(oblate5)))\n",
    "\n",
    "    flec1v.append(10*np.log10(nconc*radar.refl(oblate1, h_pol = False)))\n",
    "    flec2v.append(10*np.log10(nconc*radar.refl(oblate2, h_pol = False)))\n",
    "    flec3v.append(10*np.log10(nconc*radar.refl(oblate3, h_pol = False)))\n",
    "    flec4v.append(10*np.log10(nconc*radar.refl(oblate4, h_pol = False)))\n",
    "    flec5v.append(10*np.log10(nconc*radar.refl(oblate5, h_pol = False)))\n",
    "\n",
    "    Z = (.176/.93*(6/(np.pi)/.917)**2*(.004*(d*0.1)**2.1)**2)*10**6;\n",
    "    Rayleigh.append(10*np.log10( Z))\n",
    "\n",
    "fig = plt.figure(figsize=(15, 5))\n",
    "ax1 = fig.add_subplot(311)\n",
    "ax1.plot(dees, np.array(flec1h) - np.array(Rayleigh))\n",
    "ax1.plot(dees, np.array(flec2h) - np.array(Rayleigh), 'k')\n",
    "ax1.plot(dees, np.array(flec3h) - np.array(Rayleigh), 'r')\n",
    "ax1.set_xlabel('diameter (mm)')\n",
    "ax1.set_ylabel('Zhh - Zray)')\n",
    "ax1.set_title('Snow')\n",
    "ax1.legend(['S band', 'C band', 'Ku band'], loc = 'lower left', shadow = True)\n",
    "\n",
    "ax2 = fig.add_subplot(312)\n",
    "ax2.plot(dees, np.array(flec1v) - np.array(Rayleigh))\n",
    "ax2.plot(dees, np.array(flec2v) - np.array(Rayleigh), 'k')\n",
    "ax2.plot(dees, np.array(flec3v) - np.array(Rayleigh), 'r')\n",
    "ax2.set_xlabel('diameter (mm)')\n",
    "ax2.set_ylabel('Zvv - Zray (Db)')\n",
    "ax2.set_title('Snow')\n",
    "ax2.legend(['S band', 'C band', 'Ku band'], loc = 'lower left', shadow = True)\n",
    "\n",
    "ax3 = fig.add_subplot(313)\n",
    "ax3.plot(dees, np.array(flec1h)-np.array(flec1v))\n",
    "ax3.plot(dees, np.array(flec2h)-np.array(flec2v), 'k')\n",
    "ax3.plot(dees, np.array(flec3h)-np.array(flec3v), 'r')\n",
    "ax3.plot(dees, np.array(flec4h)-np.array(flec4v), 'g')\n",
    "ax3.plot(dees, np.array(flec5h)-np.array(flec5v), 'm')\n",
    "\n",
    "ax3.set_xlabel('diameter (mm)')\n",
    "ax3.set_ylabel('ZDR (Db)')\n",
    "ax3.set_title('Snow')\n",
    "ax3.legend(['S band', 'C band', 'Ku band', 'Ka band', 'W band'], loc = 'lower left', shadow = True)\n"
   ]
  },
  {
   "cell_type": "code",
   "execution_count": null,
   "metadata": {
    "collapsed": false
   },
   "outputs": [],
   "source": []
  }
 ],
 "metadata": {
  "kernelspec": {
   "display_name": "Python 2",
   "language": "python",
   "name": "python2"
  },
  "language_info": {
   "codemirror_mode": {
    "name": "ipython",
    "version": 2
   },
   "file_extension": ".py",
   "mimetype": "text/x-python",
   "name": "python",
   "nbconvert_exporter": "python",
   "pygments_lexer": "ipython2",
   "version": "2.7.9"
  }
 },
 "nbformat": 4,
 "nbformat_minor": 0
}
