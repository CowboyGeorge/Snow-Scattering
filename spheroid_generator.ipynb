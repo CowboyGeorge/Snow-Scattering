{
 "cells": [
  {
   "cell_type": "code",
   "execution_count": null,
   "metadata": {
    "collapsed": true
   },
   "outputs": [],
   "source": [
    "%matplotlib inline\n",
    "import matplotlib.pyplot as plt\n",
    "from pytmatrix.tmatrix import Scatterer\n",
    "from pytmatrix.psd import PSDIntegrator, GammaPSD, BinnedPSD\n",
    "from pytmatrix import orientation, radar, tmatrix_aux, refractive\n",
    "import numpy as np\n",
    "import scipy.io as sio"
   ]
  },
  {
   "cell_type": "code",
   "execution_count": null,
   "metadata": {
    "collapsed": true
   },
   "outputs": [],
   "source": []
  },
  {
   "cell_type": "code",
   "execution_count": null,
   "metadata": {
    "collapsed": false
   },
   "outputs": [],
   "source": [
    "ar = np.array([0.5, 0.6, 0.7, 1])\n",
    "dees = 1000*np.array([7.50e-05, 0.00015, 0.000225, 0.000275, 0.000325, 0.000375, 0.0004375, 0.0005125, 0.0005875, 0.0006625,\n",
    "                 0.00075, 0.00085, 0.00095, 0.0011, 0.0013, 0.0015, 0.0017, 0.002, 0.0024, 0.0028, 0.0032, 0.0036,\n",
    "                 0.004, 0.0044, 0.0048, 0.0055, 0.0065, 0.0075, 0.0085, 0.0095, 0.011, 0.013, 0.015, 0.017, 0.019])\n",
    "savepath = '/Users/gaduffy2/Box Sync/Research/APRtrieval/Spheroids'\n",
    "def mix(a, b, d, ar):\n",
    "    '''\n",
    "    I use the bruggeman mixing equation, at low densities of snowfall the decision between mixing\n",
    "    equations is trivial. a and d are in cgs.\n",
    "    '''\n",
    "    m = a*d**b\n",
    "    v = (1./6.)*ar*(d)**3*np.pi\n",
    "    density = m/v\n",
    "    n = 1.782\n",
    "    kappa = complex(0, 7.302*10**-3)\n",
    "    IceDens = .917\n",
    "    e1 = n**2 - kappa**2\n",
    "    e2 = 2*n*kappa\n",
    "    B = e1 + e2\n",
    "    f = density/IceDens\n",
    "    mixed = (B*(1+2*f)-(2*f-2))/((2+f)+B*(1-f))\n",
    "    e1out = np.real(mixed)\n",
    "    e2out = np.imag(mixed)\n",
    "    nout = np.sqrt((np.sqrt(e1out**2 +e2out**2)+e1out)/2)\n",
    "    kout = np.sqrt((np.sqrt(e1out**2 +e2out**2)-e1out)/2)\n",
    "    m =complex(nout, kout)\n",
    "    return m\n",
    "\n",
    "Ku5, Ku6, Ku7, Ku1 = [], [], [], []\n",
    "Ka5, Ka6, Ka7, Ka1 = [], [], [], []\n",
    "\n",
    "for d in dees:\n",
    "        dmod5 = d * (ar[0]**(1./3.))\n",
    "        dmod6 = d * (ar[1]**(1./3.))\n",
    "        dmod7 = d * (ar[2]**(1./3.))\n",
    "        dmod1 = d * (ar[3]**(1./3.))\n",
    "        \n",
    "        mm5 = mix(0.004, 2.1, d*0.1, ar[0])\n",
    "        mm6 = mix(0.004, 2.1, d*0.1, ar[1])\n",
    "        mm7 = mix(0.004, 2.1, d*0.1, ar[2])\n",
    "        mm1 = mix(0.004, 2.1, d*0.1, ar[3])\n",
    "        \n",
    "        oblate5 = Scatterer(radius = dmod5/2., wavelength=tmatrix_aux.wl_Ku, m = mm5, axis_ratio = 1/ar[0], thet0 = 0, thet = 0)\n",
    "        oblate6 = Scatterer(radius = dmod6/2., wavelength=tmatrix_aux.wl_Ku, m = mm6, axis_ratio = 1/ar[1], thet0 = 0, thet = 0)\n",
    "        oblate7 = Scatterer(radius = dmod7/2., wavelength=tmatrix_aux.wl_Ku, m = mm7, axis_ratio = 1/ar[2], thet0 = 0, thet = 0)\n",
    "        oblate1 = Scatterer(radius = dmod1/2., wavelength=tmatrix_aux.wl_Ku, m = mm1, axis_ratio = 1/ar[3], thet0 = 0, thet = 0)\n",
    "\n",
    "        Ku5.append(10*np.log10(radar.refl(oblate5)))\n",
    "        Ku6.append(10*np.log10(radar.refl(oblate6)))\n",
    "        Ku7.append(10*np.log10(radar.refl(oblate7)))\n",
    "        Ku1.append(10*np.log10(radar.refl(oblate1)))\n",
    "        \n",
    "        oblate5 = Scatterer(radius = dmod5/2., wavelength=tmatrix_aux.wl_Ka, m = mm5, axis_ratio = 1/ar[0], thet0 = 0, thet = 0)\n",
    "        oblate6 = Scatterer(radius = dmod6/2., wavelength=tmatrix_aux.wl_Ka, m = mm6, axis_ratio = 1/ar[1], thet0 = 0, thet = 0)\n",
    "        oblate7 = Scatterer(radius = dmod7/2., wavelength=tmatrix_aux.wl_Ka, m = mm7, axis_ratio = 1/ar[2], thet0 = 0, thet = 0)\n",
    "        oblate1 = Scatterer(radius = dmod1/2., wavelength=tmatrix_aux.wl_Ka, m = mm1, axis_ratio = 1/ar[3], thet0 = 0, thet = 0)\n",
    "\n",
    "        Ka5.append(10*np.log10(radar.refl(oblate5)))\n",
    "        Ka6.append(10*np.log10(radar.refl(oblate6)))\n",
    "        Ka7.append(10*np.log10(radar.refl(oblate7)))\n",
    "        Ka1.append(10*np.log10(radar.refl(oblate1)))\n",
    "    \n",
    "out = {}\n",
    "out['Ku5'] = Ku5\n",
    "out['Ku6'] = Ku6\n",
    "out['Ku7'] = Ku7\n",
    "out['Ku1'] = Ku1\n",
    "out['Ka5'] = Ku5\n",
    "out['Ka6'] = Ku6\n",
    "out['Ka7'] = Ku7\n",
    "out['Ka1'] = Ku1\n",
    "\n",
    "sio.savemat(savepath, out)    \n",
    "\n",
    "\n",
    "\n",
    "    "
   ]
  },
  {
   "cell_type": "raw",
   "metadata": {
    "collapsed": true
   },
   "source": []
  },
  {
   "cell_type": "raw",
   "metadata": {},
   "source": [
    "##### "
   ]
  }
 ],
 "metadata": {
  "kernelspec": {
   "display_name": "Python 2",
   "language": "python",
   "name": "python2"
  },
  "language_info": {
   "codemirror_mode": {
    "name": "ipython",
    "version": 2
   },
   "file_extension": ".py",
   "mimetype": "text/x-python",
   "name": "python",
   "nbconvert_exporter": "python",
   "pygments_lexer": "ipython2",
   "version": "2.7.9"
  }
 },
 "nbformat": 4,
 "nbformat_minor": 0
}
